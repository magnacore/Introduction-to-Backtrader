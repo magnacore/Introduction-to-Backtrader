{
 "cells": [
  {
   "cell_type": "code",
   "execution_count": 1,
   "metadata": {},
   "outputs": [],
   "source": [
    "#!pip install backtrader"
   ]
  },
  {
   "cell_type": "code",
   "execution_count": 2,
   "metadata": {},
   "outputs": [
    {
     "data": {
      "text/plain": [
       "'3.2.2'"
      ]
     },
     "execution_count": 2,
     "metadata": {},
     "output_type": "execute_result"
    }
   ],
   "source": [
    "from datetime import datetime\n",
    "import backtrader as bt\n",
    "import matplotlib\n",
    "\n",
    "matplotlib.__version__"
   ]
  },
  {
   "cell_type": "code",
   "execution_count": 3,
   "metadata": {},
   "outputs": [],
   "source": [
    "cerebro = bt.Cerebro()"
   ]
  },
  {
   "cell_type": "code",
   "execution_count": 4,
   "metadata": {},
   "outputs": [],
   "source": [
    "# Create a Stratey\n",
    "class TestStrategy(bt.Strategy):\n",
    "    \n",
    "    params = (\n",
    "        ('maperiod', 15),\n",
    "        ('printlog', False),\n",
    "    )\n",
    "\n",
    "    def __init__(self):\n",
    "        # Keep a reference to the \"close\" line in the data[0] dataseries\n",
    "        self.dataclose = self.datas[0].close\n",
    "        \n",
    "        # To keep track of pending orders\n",
    "        self.order = None\n",
    "        self.buyprice = None\n",
    "        self.buycomm = None\n",
    "        \n",
    "        # Add a MovingAverageSimple indicator\n",
    "        self.sma = bt.indicators.SimpleMovingAverage(self.datas[0], period=self.params.maperiod)\n",
    "\n",
    "        # Indicators for the plotting show\n",
    "        bt.indicators.MACDHisto(self.datas[0])\n",
    "        bt.indicators.ATR(self.datas[0], plot=False)\n",
    "\n",
    "    def log(self, txt, dt=None, doprint=False):\n",
    "        ''' Logging function fot this strategy'''\n",
    "        if self.params.printlog or doprint:\n",
    "            dt = dt or self.datas[0].datetime.date(0)\n",
    "            print(f\"{dt}, {txt}\")\n",
    "        \n",
    "    def notify_order(self, order):\n",
    "        if order.status in [order.Submitted, order.Accepted]:\n",
    "            # Buy/Sell order submitted/accepted to/by broker - Nothing to do\n",
    "            return\n",
    "        \n",
    "        # Check if an order has been completed\n",
    "        # Attention: broker could reject order if not enough cash\n",
    "        if order.status in [order.Completed]:\n",
    "            if order.isbuy():\n",
    "                self.log(f'BUY EXECUTED, Price: {order.executed.price}, Cost: {order.executed.value}, Comm {order.executed.comm}')\n",
    "                self.buyprice = order.executed.price\n",
    "                self.buycomm = order.executed.comm \n",
    "            elif order.issell():\n",
    "                self.log(f'SELL EXECUTED, Price: {order.executed.price}, Cost: {order.executed.value}, Comm {order.executed.comm}')\n",
    "    \n",
    "            \n",
    "\n",
    "        elif order.status in [order.Canceled, order.Margin, order.Rejected]:\n",
    "            self.log('Order Canceled/Margin/Rejected')\n",
    "\n",
    "        # Reset order status to prepare for next order\n",
    "        self.order = None\n",
    "        \n",
    "    def notify_trade(self, trade):\n",
    "        if not trade.isclosed:\n",
    "            return\n",
    "\n",
    "        self.log(f'OPERATION PROFIT, GROSS: {trade.pnl}, NET: {trade.pnlcomm}')\n",
    "        \n",
    "    def stop(self):\n",
    "        #self.log(f\"(MA Period {self.params.maperiod}) Ending Value {round(self.broker.getvalue(),2)}\", doprint=True)\n",
    "        print(f\"\\n(MA Period {self.params.maperiod}) Ending Value {round(self.broker.getvalue(),2)}\")\n",
    "\n",
    "\n",
    "    def next(self):\n",
    "        # Simply log the closing price of the series from the reference\n",
    "        self.log(f'Close, {self.dataclose[0]}')\n",
    "\n",
    "        # Check if an order is pending ... if yes, we cannot send a 2nd one\n",
    "        if self.order:\n",
    "            return\n",
    "\n",
    "        # Check if we are in the market\n",
    "        if not self.position:\n",
    "\n",
    "            # Not yet ... we MIGHT BUY if ...\n",
    "            if self.dataclose[0] > self.sma[0]:\n",
    "\n",
    "                # BUY, BUY, BUY!!! (with all possible default parameters)\n",
    "                self.log(f'BUY CREATE, {self.dataclose[0]}')\n",
    "\n",
    "                # Keep track of the created order to avoid a 2nd order\n",
    "                self.order = self.buy()\n",
    "\n",
    "        else:\n",
    "\n",
    "            if self.dataclose[0] < self.sma[0]:\n",
    "                # SELL, SELL, SELL!!! (with all possible default parameters)\n",
    "                self.log(f'SELL CREATE, {self.dataclose[0]}')\n",
    "\n",
    "                # Keep track of the created order to avoid a 2nd order\n",
    "                self.order = self.sell()"
   ]
  },
  {
   "cell_type": "code",
   "execution_count": 5,
   "metadata": {},
   "outputs": [],
   "source": [
    "# Add a strategy\n",
    "cerebro.optstrategy(TestStrategy, maperiod=range(8, 34+1))"
   ]
  },
  {
   "cell_type": "code",
   "execution_count": 6,
   "metadata": {},
   "outputs": [
    {
     "data": {
      "text/plain": [
       "<backtrader.feeds.yahoo.YahooFinanceData at 0x7f56b6421130>"
      ]
     },
     "execution_count": 6,
     "metadata": {},
     "output_type": "execute_result"
    }
   ],
   "source": [
    "data = bt.feeds.YahooFinanceData(dataname='^NSEI', fromdate=datetime(2020, 1, 1),\n",
    "                                  todate=datetime(2021, 2, 16))\n",
    "cerebro.adddata(data)"
   ]
  },
  {
   "cell_type": "code",
   "execution_count": 7,
   "metadata": {},
   "outputs": [],
   "source": [
    "cerebro.broker.setcash(10_00_000.0)"
   ]
  },
  {
   "cell_type": "code",
   "execution_count": 8,
   "metadata": {},
   "outputs": [],
   "source": [
    "# Add a FixedSize sizer according to the stake\n",
    "cerebro.addsizer(bt.sizers.FixedSize, stake=3) #buy/sell 3 futures"
   ]
  },
  {
   "cell_type": "code",
   "execution_count": 9,
   "metadata": {},
   "outputs": [],
   "source": [
    "# Set the commission - Rs 20 per transcation\n",
    "cerebro.broker.setcommission(commission=20, margin=1_70_000)"
   ]
  },
  {
   "cell_type": "code",
   "execution_count": 10,
   "metadata": {},
   "outputs": [
    {
     "name": "stdout",
     "output_type": "stream",
     "text": [
      "Starting Portfolio Value: 1000000.0\n"
     ]
    }
   ],
   "source": [
    "starting = cerebro.broker.getvalue()\n",
    "print(f'Starting Portfolio Value: {starting}')"
   ]
  },
  {
   "cell_type": "code",
   "execution_count": 11,
   "metadata": {},
   "outputs": [
    {
     "name": "stdout",
     "output_type": "stream",
     "text": [
      "\n",
      "(MA Period 13) Ending Value 1010442.4\n",
      "\n",
      "(MA Period 10) Ending Value 1009893.1\n",
      "\n",
      "(MA Period 9) Ending Value 1009253.35\n",
      "(MA Period 12) Ending Value 1011641.05\n",
      "\n",
      "\n",
      "(MA Period 11) Ending Value 1011434.8\n",
      "\n",
      "(MA Period 8) Ending Value 1008303.1\n",
      "\n",
      "(MA Period 14) Ending Value 1011534.4\n",
      "\n",
      "(MA Period 15) Ending Value 1012678.6\n",
      "(MA Period 16) Ending Value 1011709.9\n",
      "\n",
      "\n",
      "(MA Period 17) Ending Value 1011877.6\n",
      "(MA Period 20) Ending Value 1012708.45\n",
      "(MA Period 21) Ending Value 1012708.45\n",
      "\n",
      "\n",
      "\n",
      "(MA Period 19) Ending Value 1011249.25\n",
      "(MA Period 18) Ending Value 1011361.45\n",
      "\n",
      "\n",
      "(MA Period 22) Ending Value 1014502.45\n",
      "\n",
      "(MA Period 25) Ending Value 1012779.7\n",
      "\n",
      "(MA Period 24) Ending Value 1013549.65\n",
      "\n",
      "(MA Period 23) Ending Value 1012634.2\n",
      "(MA Period 27) Ending Value 1012901.5\n",
      "\n",
      "\n",
      "(MA Period 28) Ending Value 1012311.7\n",
      "(MA Period 26) Ending Value 1012156.45\n",
      "\n",
      "(MA Period 29) Ending Value 1011574.9\n",
      "\n",
      "\n",
      "(MA Period 30) Ending Value 1011574.9\n",
      "\n",
      "(MA Period 31) Ending Value 1012694.65\n",
      "\n",
      "(MA Period 33) Ending Value 1013365.6\n",
      "\n",
      "(MA Period 32) Ending Value 1013194.9\n",
      "\n",
      "(MA Period 34) Ending Value 1012855.3\n",
      "CPU times: user 300 ms, sys: 78.2 ms, total: 378 ms\n",
      "Wall time: 2.77 s\n"
     ]
    },
    {
     "data": {
      "text/plain": [
       "[[<backtrader.cerebro.OptReturn at 0x7f56e7be8d30>],\n",
       " [<backtrader.cerebro.OptReturn at 0x7f56e7be85b0>],\n",
       " [<backtrader.cerebro.OptReturn at 0x7f56e7be89d0>],\n",
       " [<backtrader.cerebro.OptReturn at 0x7f56e7be89a0>],\n",
       " [<backtrader.cerebro.OptReturn at 0x7f56e7be8be0>],\n",
       " [<backtrader.cerebro.OptReturn at 0x7f56e7be8700>],\n",
       " [<backtrader.cerebro.OptReturn at 0x7f56e7be8e80>],\n",
       " [<backtrader.cerebro.OptReturn at 0x7f56e7bef220>],\n",
       " [<backtrader.cerebro.OptReturn at 0x7f56e7be8cd0>],\n",
       " [<backtrader.cerebro.OptReturn at 0x7f56e7bef460>],\n",
       " [<backtrader.cerebro.OptReturn at 0x7f56e7bef400>],\n",
       " [<backtrader.cerebro.OptReturn at 0x7f56e7bef8e0>],\n",
       " [<backtrader.cerebro.OptReturn at 0x7f56e7bef580>],\n",
       " [<backtrader.cerebro.OptReturn at 0x7f56e7bef640>],\n",
       " [<backtrader.cerebro.OptReturn at 0x7f56e7be8b20>],\n",
       " [<backtrader.cerebro.OptReturn at 0x7f56e7befd00>],\n",
       " [<backtrader.cerebro.OptReturn at 0x7f56e7bef940>],\n",
       " [<backtrader.cerebro.OptReturn at 0x7f56e7befa90>],\n",
       " [<backtrader.cerebro.OptReturn at 0x7f56e7befeb0>],\n",
       " [<backtrader.cerebro.OptReturn at 0x7f56e7be8550>],\n",
       " [<backtrader.cerebro.OptReturn at 0x7f56e7befbe0>],\n",
       " [<backtrader.cerebro.OptReturn at 0x7f56e7bf61c0>],\n",
       " [<backtrader.cerebro.OptReturn at 0x7f56e7bf6310>],\n",
       " [<backtrader.cerebro.OptReturn at 0x7f56e7befe50>],\n",
       " [<backtrader.cerebro.OptReturn at 0x7f56e7be8fa0>],\n",
       " [<backtrader.cerebro.OptReturn at 0x7f56e7bf6550>],\n",
       " [<backtrader.cerebro.OptReturn at 0x7f56e7bf62e0>]]"
      ]
     },
     "execution_count": 11,
     "metadata": {},
     "output_type": "execute_result"
    }
   ],
   "source": [
    "%%time\n",
    "cerebro.run()"
   ]
  },
  {
   "cell_type": "code",
   "execution_count": 12,
   "metadata": {},
   "outputs": [
    {
     "name": "stdout",
     "output_type": "stream",
     "text": [
      "Final Portfolio Value: 1000000.0\n"
     ]
    }
   ],
   "source": [
    "ending = cerebro.broker.getvalue()\n",
    "print(f'Final Portfolio Value: {ending}')"
   ]
  },
  {
   "cell_type": "code",
   "execution_count": 13,
   "metadata": {},
   "outputs": [
    {
     "name": "stdout",
     "output_type": "stream",
     "text": [
      "Returns: 0.0%\n"
     ]
    }
   ],
   "source": [
    "print(f'Returns: {round(((ending - starting)/starting)*100, 2)}%')"
   ]
  },
  {
   "cell_type": "code",
   "execution_count": 14,
   "metadata": {},
   "outputs": [],
   "source": [
    "#cerebro.plot()"
   ]
  },
  {
   "cell_type": "code",
   "execution_count": null,
   "metadata": {},
   "outputs": [],
   "source": []
  }
 ],
 "metadata": {
  "kernelspec": {
   "display_name": "Python 3",
   "language": "python",
   "name": "python3"
  },
  "language_info": {
   "codemirror_mode": {
    "name": "ipython",
    "version": 3
   },
   "file_extension": ".py",
   "mimetype": "text/x-python",
   "name": "python",
   "nbconvert_exporter": "python",
   "pygments_lexer": "ipython3",
   "version": "3.8.5"
  }
 },
 "nbformat": 4,
 "nbformat_minor": 4
}
